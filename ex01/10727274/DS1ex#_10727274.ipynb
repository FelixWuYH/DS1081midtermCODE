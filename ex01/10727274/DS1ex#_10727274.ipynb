{
 "cells": [
  {
   "cell_type": "code",
   "execution_count": 1,
   "metadata": {},
   "outputs": [],
   "source": [
    "def number(input_): #把輸入的範圍來作相應的初始值，再轉換成INTERGER\n",
    "    number = []\n",
    "    for i in range(input_) : #以範圍作初始值生出相應的字串\n",
    "        number.append(i) \n",
    "\n",
    "    need = 0 \n",
    "    for i in range(input_) : #轉換為INTERGER\n",
    "        if ( i == 0 ) : need = need + i\n",
    "        else : need = need * 10 + i \n",
    "    return need"
   ]
  },
  {
   "cell_type": "code",
   "execution_count": 2,
   "metadata": {},
   "outputs": [],
   "source": [
    "def Recursion(maximum, number, input_, runtime ) : #主程式\n",
    "    global No\n",
    "    global numsave\n",
    "    global time\n",
    "    j = 0 \n",
    "    find = 0 #找到相同時更改為1\n",
    "\n",
    "    if ( number <= maximum and runtime < 1000 ) : #到達範圍的最大值或執行次數到達1000跳出遞迴\n",
    "        need = str(number)\n",
    "\n",
    "        len_ = len(need)\n",
    "\n",
    "        if ( len_ < input_ ) : need = \"0\" + str( number)\n",
    "\n",
    "        for  i in range (input_ - 1 )  :\n",
    "            j = i + 1\n",
    "            while j < input_  :\n",
    "\n",
    "                if ( need[i] == need[j] ) : find = 1\n",
    "                j = j + 1 \n",
    "        if ( find == 0 ) :\n",
    "            No = No + 1\n",
    "            print(\"[\",No,\"]\",need)\n",
    "        Recursion(maximum,number+1,input_,runtime+1)\n",
    "    elif ( runtime == 1000 ) : #執行次數到達1000\n",
    "        numsave = number \n",
    "        time = time + 1\n",
    "    else : \n",
    "        numsave = number"
   ]
  },
  {
   "cell_type": "code",
   "execution_count": 3,
   "metadata": {},
   "outputs": [],
   "source": [
    "def main():\n",
    "    global numsave\n",
    "    global runtime\n",
    "    input_ = int(input(\"輸入數字:\"))\n",
    "\n",
    "\n",
    "    number2 = number(input_)\n",
    "\n",
    "    maximum = 1 \n",
    "    for i in range(input_):\n",
    "        maximum = maximum * 10 \n",
    "    maximum = maximum - 1 \n",
    "    print(maximum)\n",
    "\n",
    "    while ( numsave <= maximum ) :\n",
    "        runtime = 0 \n",
    "        if ( time > 0 ) : number2 = numsave\n",
    "        Recursion( maximum, number2, input_ , runtime)"
   ]
  },
  {
   "cell_type": "code",
   "execution_count": null,
   "metadata": {},
   "outputs": [],
   "source": [
    "runtime = 0 ;\n",
    "numsave = 0;\n",
    "time = 0 ;\n",
    "No = 1 ;\n",
    "main()\n",
    "#main()"
   ]
  },
  {
   "cell_type": "code",
   "execution_count": null,
   "metadata": {},
   "outputs": [],
   "source": []
  },
  {
   "cell_type": "code",
   "execution_count": null,
   "metadata": {},
   "outputs": [],
   "source": []
  }
 ],
 "metadata": {
  "kernelspec": {
   "display_name": "Python 3",
   "language": "python",
   "name": "python3"
  },
  "language_info": {
   "codemirror_mode": {
    "name": "ipython",
    "version": 3
   },
   "file_extension": ".py",
   "mimetype": "text/x-python",
   "name": "python",
   "nbconvert_exporter": "python",
   "pygments_lexer": "ipython3",
   "version": "3.7.4"
  }
 },
 "nbformat": 4,
 "nbformat_minor": 2
}
