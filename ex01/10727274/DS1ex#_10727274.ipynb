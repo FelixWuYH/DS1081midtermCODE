runtime = 0 ;
numsave = 0;
time = 0 ;
No = 1 ;

def number(input_):
    number = []
    for i in range(input_) :
        number.append(i) 

    need = 0 
    for i in range(input_) :
       if ( i == 0 ) : need = need + i
       else : need = need * 10 + i
    return need


def Recursion(maximum, number, input_, runtime ) :
    global No
    global numsave

    find = 0

    if ( number <= maximum and runtime < 10000 ) :
        need = str(number)

        len_ = len(need)

        if ( len_ < input_ ) : need = "0" + str( number)

        i = 0 
        j = 0
        while ( i < input_ - 1 )  :
     
    
            while ( j < input_ ) :
                j = i + 1
    
                if ( need[i] == need[j] ) : find = 1
                j = j + 1 

            i = i + 1 



        if ( find == 0 ) :
            No = No + 1
            print("[",No,"]",need)
        Recursion(maximum,number+1,input_,runtime+1)
    elif ( runtime == 10000 ) :
        numsave = number 
        time = time + 1
    else :
        numsave = number








        

       





def main():
    global numsave
    input_ = int(input("輸入數字:"))


    number2 = number(input_)

    maximum = 1 
    for i in range(input_):
        maximum = maximum * 10 
    maximum = maximum - 1 
    print(maximum)

    while ( numsave < maximum ) :
        runtime = 0 
        if ( time > 0 ) : number2 = numsave
        Recursion( maximum, number2, input_ , runtime)


    

    


main()
#main()
