# This file is created by using Jupyter Notebook
# This is just for one of the three exercises
