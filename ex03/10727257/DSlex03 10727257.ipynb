    In[1] :

class Stack():


    def Inttochar(self, num3, chnum3 ) : #把數字轉'數字'
        if  num3 == 1  :
            chnum3 = '1'
        elif num3 == 2 :
            chnum3 = '2'
        elif num3 == 3 :
            chnum3 = '3'
        elif num3 == 4 :
            chnum3 == '4'
        elif num3 == 5 :
            chnum3 = '5'
        elif num3 == 6 :
            chnum3 = '6'
        elif num3 == 7 :
            chnum3 = '7'
        elif num3 == 8 :
            chnum3 = '8'
        elif num3 == 9 :
            chnum3 = '9'
        elif num3 == 0 :
            chnum3 = '0'
           
        return chnum3
    def Operation(self, postfix, i, num1, num2, interger) : #做加減乘除
      
         if postfix[i] == '+' :
                interger = num1 + num2
         
         if postfix[i] == '-' :
               interger = num1 - num2
                
         if postfix[i] == '*' :   
            interger = num1 * num2
            
         if postfix[i] == '/' :   
            interger = num1 / num2
            
         
         return interger
    def Postfixoperation(self, postfix):  #後序式計算
        stack = [] 
        interger = 0
        lenth1 = len(postfix) 
        i = 0
        k = 0
        while lenth1 > i :
            
            if postfix[i].isdigit() == 1 : #把數字存進堆疊
                stack.append(postfix[i])
                k = k + 1
            
            if postfix[i] == '+' or postfix[i] == '-' or postfix[i] == '*' or postfix[i] == "/"  :      
       
                        ch2 = stack.pop()
                        ch1 = stack.pop()
                        num2 = ord(ch2) - 48
                        num1 = ord(ch1) - 48
                        num3 = self.Operation( postfix, i, num1, num2, interger) 
                        chnum3 = ''
                        chnum3 = self.Inttochar( num3, chnum3 ) 
                        stack.append(chnum3)
                        
                        
                        
            i = i + 1
        
        print(num3)
             
             
    In[2] :
    
    postfix = input() # 讀後序式
    stack1 = Stack() #創一個叫stack的Stack
    stack1.Postfixoperation(postfix) # 呼叫後序計算
