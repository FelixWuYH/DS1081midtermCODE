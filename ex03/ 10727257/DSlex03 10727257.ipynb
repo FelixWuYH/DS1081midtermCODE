{
 "cells": [
  {
   "cell_type": "code",
   "execution_count": 3,
   "metadata": {},
   "outputs": [],
   "source": [
    "class Stack():\n",
    "    zero = '0'\n",
    "    def Inttochar(self, num3, chnum3 ) : #把數字轉'數字'\n",
    "        if  num3 == 1  :\n",
    "            chnum3 = '1'\n",
    "        elif num3 == 2 :\n",
    "            chnum3 = '2'\n",
    "        elif num3 == 3 :\n",
    "            chnum3 = '3'\n",
    "        elif num3 == 4 :\n",
    "            chnum3 == '4'\n",
    "        elif num3 == 5 :\n",
    "            chnum3 = '5'\n",
    "        elif num3 == 6 :\n",
    "            chnum3 = '6'\n",
    "        elif num3 == 7 :\n",
    "            chnum3 = '7'\n",
    "        elif num3 == 8 :\n",
    "            chnum3 = '8'\n",
    "        elif num3 == 9 :\n",
    "            chnum3 = '9'\n",
    "        elif num3 == 0 :\n",
    "            chnum3 = '0'\n",
    "           \n",
    "        return chnum3\n",
    "    def Operation(self, postfix, i, num1, num2, interger) : #做加減乘除\n",
    "     \n",
    "         if postfix[i] == '+' :\n",
    "                interger = num1 + num2\n",
    "         \n",
    "         if postfix[i] == '-' :\n",
    "               interger = num1 - num2\n",
    "                \n",
    "         if postfix[i] == '*' :   \n",
    "            interger = num1 * num2\n",
    "            \n",
    "         if postfix[i] == '/' :   \n",
    "            if  num2 == 0 :\n",
    "             print(\"erro\")\n",
    "             self.zero = '1'\n",
    "            else :\n",
    "             interger = num1 / num2\n",
    "            \n",
    "         \n",
    "         return interger\n",
    "    def Postfixoperation(self, postfix):  #後序式計算\n",
    "    \n",
    "        stack = [] \n",
    "        interger = 0\n",
    "        lenth1 = len(postfix) \n",
    "        i = 0\n",
    "        k = 0\n",
    "        while lenth1 > i :\n",
    "            \n",
    "            if postfix[i].isdigit() == 1 or postfix[i] == ',' : #把數字存進堆疊\n",
    "                stack.append(postfix[i])\n",
    "                k = k + 1\n",
    "            \n",
    "            if postfix[i] == '+' or postfix[i] == '-' or postfix[i] == '*' or postfix[i] == \"/\"  :  \n",
    "                        \n",
    "                        \n",
    "                        ch2 = stack.pop()       \n",
    "                        ch1 = stack.pop()\n",
    "                        num2 = ord(ch2) - 48\n",
    "                        num1 = ord(ch1) - 48\n",
    "                        num3 = self.Operation( postfix, i, num1, num2, interger) \n",
    "                        chnum3 =''\n",
    "                        chnum3 = self.Inttochar( num3, chnum3 ) \n",
    "                        stack.append(chnum3)\n",
    "                        \n",
    "                        \n",
    "                        \n",
    "            i = i + 1\n",
    "            \n",
    "        if self.zero == '0' :\n",
    "          print(num3)"
   ]
  },
  {
   "cell_type": "code",
   "execution_count": 4,
   "metadata": {},
   "outputs": [
    {
     "name": "stdout",
     "output_type": "stream",
     "text": [
      "10/\n",
      "erro\n"
     ]
    }
   ],
   "source": [
    "postfix = input() # 讀後序式\n",
    "stack1 = Stack() #創一個叫stack的Stack\n",
    "stack1.Postfixoperation(postfix) # 呼叫後序計算\n"
   ]
  },
  {
   "cell_type": "code",
   "execution_count": null,
   "metadata": {},
   "outputs": [],
   "source": []
  }
 ],
 "metadata": {
  "kernelspec": {
   "display_name": "Python 3",
   "language": "python",
   "name": "python3"
  },
  "language_info": {
   "codemirror_mode": {
    "name": "ipython",
    "version": 3
   },
   "file_extension": ".py",
   "mimetype": "text/x-python",
   "name": "python",
   "nbconvert_exporter": "python",
   "pygments_lexer": "ipython3",
   "version": "3.7.4"
  }
 },
 "nbformat": 4,
 "nbformat_minor": 2
}
