{
 "cells": [
  {
   "cell_type": "code",
   "execution_count": 4,
   "metadata": {
    "scrolled": true
   },
   "outputs": [],
   "source": [
    "\n",
    "    def symbol( char,  num1, num2 ) : #將遇到的符號設定它的動作\n",
    "        \n",
    "        if char == '+' :\n",
    "             num1 = num1 + num2\n",
    "            \n",
    "        if char == '-' :\n",
    "             num1 = num1 - num2\n",
    "           \n",
    "        if char == '*' :\n",
    "            num1 = num1 * num2\n",
    "            \n",
    "        if char == '/' :\n",
    "            if num2 == 0 :\n",
    "                print( \"An error occurred\")\n",
    "                return 0 \n",
    "            else :\n",
    "                num1 = num1 / num2\n",
    "       \n",
    "        return num1\n",
    "    \n",
    "    def process( formula ) :\n",
    "        length = len(formula) #判斷式子的長度\n",
    "        \n",
    "        i = 0\n",
    "        s = \"\"\n",
    "        v = []\n",
    "        while i < length :\n",
    "            \n",
    "            \n",
    "            if formula[i].isdigit() == 1 : #遇到數字時將整個給記錄下來並將其做堆疊\n",
    "                s = s + formula[i]\n",
    "                i = i + 1\n",
    "                while formula[i].isdigit() == 1 :\n",
    "                    s = s + formula[i]\n",
    "                    i = i + 1\n",
    "                i = i - 1\n",
    "                v.append(s)\n",
    "            elif formula[i] == '+' or formula[i] == '-' or formula[i] == '*' or formula[i] == '/' : #遇到運算子時將上層的兩個運算元做運算\n",
    "                str2 = v.pop() \n",
    "                str1 = v.pop()\n",
    "                num1 = int(str1)\n",
    "                num2 = int(str2)\n",
    "                ans = int(symbol( formula[i],  num1, num2 ))\n",
    "                answer = str(ans)\n",
    "                v.append(answer)\n",
    "                \n",
    "            \n",
    "            i = i + 1  #如果遇到,就換下一項\n",
    "            s = \"\"\n",
    "            \n",
    "        print(answer)\n",
    "            "
   ]
  },
  {
   "cell_type": "code",
   "execution_count": 6,
   "metadata": {
    "scrolled": true
   },
   "outputs": [
    {
     "name": "stdout",
     "output_type": "stream",
     "text": [
      "54,3,/,6,/,8,+\n",
      "11\n"
     ]
    }
   ],
   "source": [
    "    formula = input() #將後序式讀進來\n",
    "\n",
    "    process( formula ) #將後序式處理算出答案"
   ]
  }
 ],
 "metadata": {
  "kernelspec": {
   "display_name": "Python 3",
   "language": "python",
   "name": "python3"
  },
  "language_info": {
   "codemirror_mode": {
    "name": "ipython",
    "version": 3
   },
   "file_extension": ".py",
   "mimetype": "text/x-python",
   "name": "python",
   "nbconvert_exporter": "python",
   "pygments_lexer": "ipython3",
   "version": "3.7.4"
  }
 },
 "nbformat": 4,
 "nbformat_minor": 2
}
